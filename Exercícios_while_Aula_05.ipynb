{
  "nbformat": 4,
  "nbformat_minor": 0,
  "metadata": {
    "colab": {
      "name": "Exercícios_while_Aula_05",
      "provenance": [],
      "authorship_tag": "ABX9TyPDjZ4PS2399QvbRj0+FM8K",
      "include_colab_link": true
    },
    "kernelspec": {
      "name": "python3",
      "display_name": "Python 3"
    },
    "language_info": {
      "name": "python"
    }
  },
  "cells": [
    {
      "cell_type": "markdown",
      "metadata": {
        "id": "view-in-github",
        "colab_type": "text"
      },
      "source": [
        "<a href=\"https://colab.research.google.com/github/janicecaldeira/blue-mod1/blob/main/Exerc%C3%ADcios_while_Aula_05.ipynb\" target=\"_parent\"><img src=\"https://colab.research.google.com/assets/colab-badge.svg\" alt=\"Open In Colab\"/></a>"
      ]
    },
    {
      "cell_type": "markdown",
      "metadata": {
        "id": "EtFILeSytv8D"
      },
      "source": [
        "#Exercícios"
      ]
    },
    {
      "cell_type": "markdown",
      "metadata": {
        "id": "6fnUbiD0t9NI"
      },
      "source": [
        "#Exercício 01\n",
        "Faça um programa que leia o sexo biológico de uma pessoa, mas só aceite os valores ‘M’ ou ‘F’. Caso esteja errado, peça a digitação novamente até ter um valor correto"
      ]
    },
    {
      "cell_type": "code",
      "metadata": {
        "colab": {
          "base_uri": "https://localhost:8080/"
        },
        "id": "nFe15KeSPE2C",
        "outputId": "9340afb9-85c4-4920-ce38-8436050bac7e"
      },
      "source": [
        "sexo = input(\"Digite o sexo (F - Feminino) ou (M - Masculino): \").upper()\n",
        "\n",
        "while sexo != \"F\" and sexo != \"M\":\n",
        "    sexo = input(\"Digite apenas (F) ou (M): \").upper()\n",
        "else:\n",
        "    print(\"Informação correta\")"
      ],
      "execution_count": 17,
      "outputs": [
        {
          "output_type": "stream",
          "text": [
            "Digite o sexo (F - Feminino) ou (M - Masculino): k\n",
            "Digite apenas (F) ou (M): m\n",
            "Informação correta\n"
          ],
          "name": "stdout"
        }
      ]
    },
    {
      "cell_type": "markdown",
      "metadata": {
        "id": "JyWHk6zvwftR"
      },
      "source": [
        "#Exercício 02\n",
        "Escreva um programa que pede uma senha ao usuário, e só sai do loop quando digitarem corretamente a senha.\n",
        "\n",
        "**A senha é “Blue123”**\n",
        "\n",
        "*2b -* Exiba quantas vezes o usuário errou a digitação."
      ]
    },
    {
      "cell_type": "code",
      "metadata": {
        "colab": {
          "base_uri": "https://localhost:8080/"
        },
        "id": "HrGgZVxLwybh",
        "outputId": "c3866f44-d406-4f16-9ea1-075b5c21ccac"
      },
      "source": [
        "senha = \"Blue123\"\n",
        "cont = 0\n",
        "user = input(\"Digite a senha: \")\n",
        "while (user != senha):\n",
        "  user = input(\"Digite a senha: \")\n",
        "  cont = cont+1\n",
        "else:\n",
        "  print(f\"O usuário tentou {cont} vezes antes de acertar\")"
      ],
      "execution_count": 19,
      "outputs": [
        {
          "output_type": "stream",
          "text": [
            "Digite a senha: 2\n",
            "Digite a senha: 1\n",
            "Digite a senha: 3\n",
            "Digite a senha: Blue123\n",
            "O usuário tentou 3 vezes antes de acertar\n"
          ],
          "name": "stdout"
        }
      ]
    },
    {
      "cell_type": "markdown",
      "metadata": {
        "id": "b5I3TJYTx_Kq"
      },
      "source": [
        "#Exercício 03\n",
        "Crie um programa que leia a idade e o sexo de várias pessoas. A cada pessoa cadastrada, o programa deverá perguntar se o usuário quer ou não continuar.\n",
        "\n",
        "No final, mostre:\n",
        "1. Quantas pessoas tem mais de 18 anos.\n",
        "2. Quantos homens foram cadastrados.\n",
        "3. Quantas mulheres tem menos de 20 anos."
      ]
    },
    {
      "cell_type": "code",
      "metadata": {
        "colab": {
          "base_uri": "https://localhost:8080/"
        },
        "id": "7X7pfkZByKmJ",
        "outputId": "165e2c20-c3ec-4638-caa8-232e5a680eca"
      },
      "source": [
        "cont = 1\n",
        "cont_18 = 0\n",
        "cont_M = 0\n",
        "cont_20 = 0\n",
        "\n",
        "while cont != 0:\n",
        "  print(\"Olá, por favor informe os dados abaixo\")\n",
        "  idade = int(input(\"Idade: \"))\n",
        "  sexo = input(\"Sexo (F/M): \").upper()\n",
        "  cont = int(input(\"Se não quiser continuar digite 0: \"))\n",
        "  if idade > 18:\n",
        "    cont_18 += 1\n",
        "  else:\n",
        "    pass\n",
        "  if sexo == \"M\":\n",
        "    cont_M += 1\n",
        "  elif sexo == \"F\":\n",
        "    if idade < 20:\n",
        "      cont_20 += 1\n",
        "    else:\n",
        "      pass\n",
        "  else:\n",
        "    pass\n",
        "\n",
        "print(f\"{cont_18} pessoas tem mais de 18 anos\")\n",
        "print(f\"{cont_M} homens foram cadastrados\")\n",
        "print(f\"{cont_20} mulheres tem menos de 20 anos\")"
      ],
      "execution_count": 27,
      "outputs": [
        {
          "output_type": "stream",
          "text": [
            "Olá, por favor informe os dados abaixo\n",
            "Idade: 20\n",
            "Sexo (F/M): F\n",
            "Se não quiser continuar digite 0: 1\n",
            "Olá, por favor informe os dados abaixo\n",
            "Idade: 18\n",
            "Sexo (F/M): F\n",
            "Se não quiser continuar digite 0: 1\n",
            "Olá, por favor informe os dados abaixo\n",
            "Idade: 30\n",
            "Sexo (F/M): F\n",
            "Se não quiser continuar digite 0: 0\n",
            "2 pessoas tem mais de 18 anos\n",
            "0 homens foram cadastrados\n",
            "1 mulheres tem menos de 20 anos\n"
          ],
          "name": "stdout"
        }
      ]
    },
    {
      "cell_type": "markdown",
      "metadata": {
        "id": "z7L9MCBo20rS"
      },
      "source": [
        "#DESAFIO:\n",
        "Crie um jogo onde o computador vai “pensar” em um número entre 0 e 10. O jogador vai tentar adivinhar qual número foi escolhido até acertar, mostrando no final quantos palpites foram necessários para vencer."
      ]
    },
    {
      "cell_type": "code",
      "metadata": {
        "colab": {
          "base_uri": "https://localhost:8080/"
        },
        "id": "CCEAXnJ329aS",
        "outputId": "f4fe7597-ee53-4b99-a9b3-e54520f80d78"
      },
      "source": [
        "import random\n",
        "\n",
        "print(\"Olá, tente adivinhar o número (de 0 a 10)\")\n",
        "num = random.randint(0, 10)\n",
        "cont = 0\n",
        "num_user = int(input(\"Qual número eu pensei? \"))\n",
        "while num != num_user:\n",
        "  num_user = int(input(\"Qual número eu pensei? \"))\n",
        "  cont += 1\n",
        "else:\n",
        "  print(f\"Parabéns! Você acertou após {cont} tentativas\")"
      ],
      "execution_count": 29,
      "outputs": [
        {
          "output_type": "stream",
          "text": [
            "Olá, tente adivinhar o número (de 0 a 10)\n",
            "Qual número eu pensei? 0\n",
            "Qual número eu pensei? 1\n",
            "Qual número eu pensei? 2\n",
            "Parabéns! Você acertou após 2 tentativas\n"
          ],
          "name": "stdout"
        }
      ]
    }
  ]
}