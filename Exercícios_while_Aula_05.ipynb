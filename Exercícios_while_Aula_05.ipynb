{
  "nbformat": 4,
  "nbformat_minor": 0,
  "metadata": {
    "colab": {
      "name": "Exercícios_while_Aula_05",
      "provenance": [],
      "collapsed_sections": [],
      "authorship_tag": "ABX9TyODfw+QpYrGmFuMxWXjhMk7",
      "include_colab_link": true
    },
    "kernelspec": {
      "name": "python3",
      "display_name": "Python 3"
    },
    "language_info": {
      "name": "python"
    }
  },
  "cells": [
    {
      "cell_type": "markdown",
      "metadata": {
        "id": "view-in-github",
        "colab_type": "text"
      },
      "source": [
        "<a href=\"https://colab.research.google.com/github/janicecaldeira/blue-mod1/blob/main/Exerc%C3%ADcios_while_Aula_05.ipynb\" target=\"_parent\"><img src=\"https://colab.research.google.com/assets/colab-badge.svg\" alt=\"Open In Colab\"/></a>"
      ]
    },
    {
      "cell_type": "markdown",
      "metadata": {
        "id": "EtFILeSytv8D"
      },
      "source": [
        "#Exercícios"
      ]
    },
    {
      "cell_type": "markdown",
      "metadata": {
        "id": "6fnUbiD0t9NI"
      },
      "source": [
        "#Exercício 01\n",
        "Faça um programa que leia o sexo biológico de uma pessoa, mas só aceite os valores ‘M’ ou ‘F’. Caso esteja errado, peça a digitação novamente até ter um valor correto"
      ]
    },
    {
      "cell_type": "code",
      "metadata": {
        "colab": {
          "base_uri": "https://localhost:8080/"
        },
        "id": "nFe15KeSPE2C",
        "outputId": "96b8ded4-a149-4548-e6b3-e1c72bde707e"
      },
      "source": [
        "sexo = input(\"Digite o sexo (F - Feminino) ou (M - Masculino): \").upper()\n",
        "\n",
        "while sexo != \"F\" and sexo != \"M\":\n",
        "    sexo = input(\"Digite apenas (F) ou (M): \").upper()\n",
        "\n",
        "print(\"Informação correta\")"
      ],
      "execution_count": 32,
      "outputs": [
        {
          "output_type": "stream",
          "text": [
            "Digite o sexo (F - Feminino) ou (M - Masculino): fem\n",
            "Digite apenas (F) ou (M): F\n",
            "Informação correta\n"
          ],
          "name": "stdout"
        }
      ]
    },
    {
      "cell_type": "markdown",
      "metadata": {
        "id": "JyWHk6zvwftR"
      },
      "source": [
        "#Exercício 02\n",
        "Escreva um programa que pede uma senha ao usuário, e só sai do loop quando digitarem corretamente a senha.\n",
        "\n",
        "**A senha é “Blue123”**\n",
        "\n",
        "*2b -* Exiba quantas vezes o usuário errou a digitação."
      ]
    },
    {
      "cell_type": "code",
      "metadata": {
        "colab": {
          "base_uri": "https://localhost:8080/"
        },
        "id": "HrGgZVxLwybh",
        "outputId": "d5ca9d12-dbe2-4200-dfc4-0f262be16543"
      },
      "source": [
        "senha = \"Blue123\"\n",
        "cont = 0\n",
        "user = input(\"Digite a senha: \")\n",
        "while (user != senha):\n",
        "  user = input(\"Digite a senha: \")\n",
        "  cont = cont+1\n",
        "\n",
        "print(f\"O usuário tentou {cont} vezes antes de acertar\")"
      ],
      "execution_count": 31,
      "outputs": [
        {
          "output_type": "stream",
          "text": [
            "Digite a senha: 1\n",
            "Digite a senha: 2\n",
            "Digite a senha: Blue123\n",
            "O usuário tentou 2 vezes antes de acertar\n"
          ],
          "name": "stdout"
        }
      ]
    },
    {
      "cell_type": "markdown",
      "metadata": {
        "id": "b5I3TJYTx_Kq"
      },
      "source": [
        "#Exercício 03\n",
        "Crie um programa que leia a idade e o sexo de várias pessoas. A cada pessoa cadastrada, o programa deverá perguntar se o usuário quer ou não continuar.\n",
        "\n",
        "No final, mostre:\n",
        "1. Quantas pessoas tem mais de 18 anos.\n",
        "2. Quantos homens foram cadastrados.\n",
        "3. Quantas mulheres tem menos de 20 anos."
      ]
    },
    {
      "cell_type": "code",
      "metadata": {
        "colab": {
          "base_uri": "https://localhost:8080/"
        },
        "id": "7X7pfkZByKmJ",
        "outputId": "8ef5f1b6-85e1-4e0c-cdfd-135d9bd885ef"
      },
      "source": [
        "cont = 1\n",
        "cont_18 = 0\n",
        "cont_M = 0\n",
        "cont_20 = 0\n",
        "\n",
        "while cont != 0:\n",
        "  print(\"Olá, por favor informe os dados abaixo\")\n",
        "  idade = int(input(\"Idade: \"))\n",
        "  sexo = input(\"Sexo (F/M): \").upper()\n",
        "  cont = int(input(\"Se não quiser continuar digite 0: \"))\n",
        "  if idade > 18:\n",
        "    cont_18 += 1\n",
        "  if sexo == \"M\":\n",
        "    cont_M += 1\n",
        "  else:\n",
        "    if idade < 20:\n",
        "      cont_20 += 1\n",
        "\n",
        "print(f\"{cont_18} pessoas tem mais de 18 anos\")\n",
        "print(f\"{cont_M} homens foram cadastrados\")\n",
        "print(f\"{cont_20} mulheres tem menos de 20 anos\")"
      ],
      "execution_count": 30,
      "outputs": [
        {
          "output_type": "stream",
          "text": [
            "Olá, por favor informe os dados abaixo\n",
            "Idade: 16\n",
            "Sexo (F/M): F\n",
            "Se não quiser continuar digite 0: 1\n",
            "Olá, por favor informe os dados abaixo\n",
            "Idade: 30\n",
            "Sexo (F/M): M\n",
            "Se não quiser continuar digite 0: 3\n",
            "Olá, por favor informe os dados abaixo\n",
            "Idade: 33\n",
            "Sexo (F/M): F\n",
            "Se não quiser continuar digite 0: 0\n",
            "2 pessoas tem mais de 18 anos\n",
            "1 homens foram cadastrados\n",
            "1 mulheres tem menos de 20 anos\n"
          ],
          "name": "stdout"
        }
      ]
    },
    {
      "cell_type": "markdown",
      "metadata": {
        "id": "z7L9MCBo20rS"
      },
      "source": [
        "#DESAFIO:\n",
        "Crie um jogo onde o computador vai “pensar” em um número entre 0 e 10. O jogador vai tentar adivinhar qual número foi escolhido até acertar, mostrando no final quantos palpites foram necessários para vencer."
      ]
    },
    {
      "cell_type": "code",
      "metadata": {
        "colab": {
          "base_uri": "https://localhost:8080/"
        },
        "id": "CCEAXnJ329aS",
        "outputId": "bfe7273d-908c-4350-bac8-6b6be1741bb9"
      },
      "source": [
        "import random\n",
        "\n",
        "print(\"Olá, tente adivinhar o número (de 0 a 10)\")\n",
        "num = random.randint(0, 10)\n",
        "cont = 0\n",
        "num_user = int(input(\"Qual número eu pensei? \"))\n",
        "while num != num_user:\n",
        "  num_user = int(input(\"Qual número eu pensei? \"))\n",
        "  cont += 1\n",
        "\n",
        "if cont == 0:\n",
        "  print(f\"Parabéns! Você acertou na primeira tentativa\")\n",
        "\n",
        "print(f\"Parabéns! Você acertou após {cont} tentativas\")"
      ],
      "execution_count": 35,
      "outputs": [
        {
          "output_type": "stream",
          "text": [
            "Olá, tente adivinhar o número (de 0 a 10)\n",
            "Qual número eu pensei? 0\n",
            "Qual número eu pensei? 1\n",
            "Qual número eu pensei? 2\n",
            "Qual número eu pensei? 3\n",
            "Qual número eu pensei? 4\n",
            "Parabéns! Você acertou após 4 tentativas\n"
          ],
          "name": "stdout"
        }
      ]
    }
  ]
}