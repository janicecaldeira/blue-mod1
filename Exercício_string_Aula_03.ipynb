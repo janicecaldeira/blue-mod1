{
  "nbformat": 4,
  "nbformat_minor": 0,
  "metadata": {
    "colab": {
      "name": "Exercício_string - Aula 03",
      "provenance": [],
      "authorship_tag": "ABX9TyMZ1LJuBer0CySTJwK+2ItB",
      "include_colab_link": true
    },
    "kernelspec": {
      "name": "python3",
      "display_name": "Python 3"
    },
    "language_info": {
      "name": "python"
    }
  },
  "cells": [
    {
      "cell_type": "markdown",
      "metadata": {
        "id": "view-in-github",
        "colab_type": "text"
      },
      "source": [
        "<a href=\"https://colab.research.google.com/github/janicecaldeira/blue-mod1/blob/main/Exerc%C3%ADcio_string_Aula_03.ipynb\" target=\"_parent\"><img src=\"https://colab.research.google.com/assets/colab-badge.svg\" alt=\"Open In Colab\"/></a>"
      ]
    },
    {
      "cell_type": "markdown",
      "metadata": {
        "id": "AgVdX5rE9TWA"
      },
      "source": [
        "01 – Escreva um programa que deve receber o nome completo do usuário e retornar uma saudação com o nome no formato adequado (todas as primeiras letras em maiúsculas)."
      ]
    },
    {
      "cell_type": "code",
      "metadata": {
        "colab": {
          "base_uri": "https://localhost:8080/"
        },
        "id": "dvkD3-TV9Mz3",
        "outputId": "62645ae1-ea3f-4ce7-ae49-819651ecf783"
      },
      "source": [
        "print(\"Seja bem vindo!\"\"\\n\")\n",
        "nome_completo = input(\"Digite o seu nome completo: \")\n",
        "print(\"\\n\"\"Olá,\",nome_completo.title(), \"\\n\"\"Tudo bem com você?\")"
      ],
      "execution_count": null,
      "outputs": [
        {
          "output_type": "stream",
          "text": [
            "Seja bem vindo!\n",
            "\n",
            "Digite o seu nome completo: janice caldeira\n",
            "\n",
            "Olá, Janice Caldeira \n",
            "Tudo bem com você?\n"
          ],
          "name": "stdout"
        }
      ]
    },
    {
      "cell_type": "markdown",
      "metadata": {
        "id": "I2YSGCq1_RNq"
      },
      "source": [
        "02 - Escreva um programa que solicite uma frase ao usuário e escreva a frase toda em maiúscula e sem espaços em branco."
      ]
    },
    {
      "cell_type": "code",
      "metadata": {
        "colab": {
          "base_uri": "https://localhost:8080/"
        },
        "id": "vK1r9Eld_McQ",
        "outputId": "1df4da8e-8f04-45a6-d551-2e28dac743e5"
      },
      "source": [
        "frase = input(\"Digite uma frase: \")\n",
        "print(\"\\n\",frase.upper().strip())"
      ],
      "execution_count": null,
      "outputs": [
        {
          "output_type": "stream",
          "text": [
            "Digite uma frase: a bola rola\n",
            "\n",
            " A BOLA ROLA\n"
          ],
          "name": "stdout"
        }
      ]
    },
    {
      "cell_type": "markdown",
      "metadata": {
        "id": "8OyPvfkGAT3h"
      },
      "source": [
        "03 – Faça um programa que solicite a altura e o peso do usuário, e calcule o seu IMC. Os dados entrados precisam ser corrigidos pelo programa (trocando “,” por “.” e eliminando espaços e letras extras)."
      ]
    },
    {
      "cell_type": "code",
      "metadata": {
        "colab": {
          "base_uri": "https://localhost:8080/"
        },
        "id": "lZk55-6YAWzf",
        "outputId": "4472d746-282e-4d8d-fc8c-e3129519986a"
      },
      "source": [
        "altura = float(input(\"Digite sua altura: \").replace(\",\",\".\").strip())\n",
        "peso = float(input(\"Digite seu peso: \").replace(\",\",\".\").strip())\n",
        "IMC = peso/altura**2\n",
        "print(f\"Seu IMC é: {IMC:.2f}\")\n",
        "if IMC < 18.5:\n",
        "  print(\"Abaixo do Peso\")\n",
        "elif IMC >= 18.5 and IMC <= 24.9:\n",
        "  print(\"Peso Normal\")\n",
        "elif IMC >= 25 and IMC <= 29.9:\n",
        "  print(\"Sobrepeso\")\n",
        "elif IMC >= 30 and IMC <= 34.9:\n",
        "  print(\"Obesidade Grau I\")\n",
        "elif IMC >= 35 and IMC <= 39.9:\n",
        "  print(\"Obesidade Grau II\")\n",
        "else:\n",
        "  print(\"Obesidade Grau III\")"
      ],
      "execution_count": 23,
      "outputs": [
        {
          "output_type": "stream",
          "text": [
            "Digite sua altura: 1.65\n",
            "Digite seu peso: 65\n",
            "Seu IMC é: 23.88\n",
            "Peso Normal\n"
          ],
          "name": "stdout"
        }
      ]
    }
  ]
}