{
  "nbformat": 4,
  "nbformat_minor": 0,
  "metadata": {
    "colab": {
      "name": "Desafios_Aula_04",
      "provenance": [],
      "collapsed_sections": [],
      "authorship_tag": "ABX9TyNLZ6adqLSeS4tqj5MyDQvv",
      "include_colab_link": true
    },
    "kernelspec": {
      "name": "python3",
      "display_name": "Python 3"
    },
    "language_info": {
      "name": "python"
    }
  },
  "cells": [
    {
      "cell_type": "markdown",
      "metadata": {
        "id": "view-in-github",
        "colab_type": "text"
      },
      "source": [
        "<a href=\"https://colab.research.google.com/github/janicecaldeira/blue-mod1/blob/main/Desafios_Aula_04.ipynb\" target=\"_parent\"><img src=\"https://colab.research.google.com/assets/colab-badge.svg\" alt=\"Open In Colab\"/></a>"
      ]
    },
    {
      "cell_type": "markdown",
      "metadata": {
        "id": "TBn0Y58JuU3i"
      },
      "source": [
        "#DESAFIO 01\n",
        "\n",
        "#Reajuste salarial\n",
        "\n",
        "As empresas @.com resolveram dar um aumento de salário aos seus colaboradores e lhe contrataram para desenvolver o programa que calculará os reajustes.\n",
        "\n",
        "Faça um programa que recebe o salário de um colaborador e o reajuste segundo o seguinte critério, baseado no salário atual:\n",
        "\n",
        "  * salários até R$ 280,00 (incluindo) : aumento de 20%\n",
        "\n",
        "  * salários entre R$ 280,00 e R$ 700,00 : aumento de 15%\n",
        "\n",
        "  * salários entre R$ 700,00 e R$ 1500,00 : aumento de 10%\n",
        "\n",
        "  * salários de R$ 1500,00 em diante : aumento de 5%\n",
        "\n",
        "Após o aumento ser realizado, informe na tela:\n",
        "\n",
        "  * o salário antes do reajuste;\n",
        "\n",
        "  * o percentual de aumento aplicado;\n",
        "\n",
        "  * o valor do aumento;\n",
        "\n",
        "  * o novo salário, após o aumento.\n"
      ]
    },
    {
      "cell_type": "code",
      "metadata": {
        "colab": {
          "base_uri": "https://localhost:8080/"
        },
        "id": "xsjf7Qg8uEFx",
        "outputId": "b848d0b7-ae0d-4f41-88ea-d16caa058798"
      },
      "source": [
        "aumento = 0\n",
        "percentual = 0\n",
        "\n",
        "reajuste_faixa1 = 20\n",
        "reajuste_faixa2 = 15\n",
        "reajuste_faixa3 = 10\n",
        "reajuste_faixa4 = 5\n",
        "\n",
        "salario_atual = float(input(\"Qual o seu salário? \").replace(\",\",\".\"))\n",
        "\n",
        "if salario_atual <= 280:\n",
        "  aumento = salario_atual*(reajuste_faixa1/100)\n",
        "  percentual = reajuste_faixa1\n",
        "elif salario_atual < 700:\n",
        "  aumento = salario_atual*(reajuste_faixa2/100)\n",
        "  percentual = reajuste_faixa2\n",
        "elif salario_atual < 1500:\n",
        "  aumento = salario_atual*(reajuste_faixa3/100)\n",
        "  percentual = reajuste_faixa3\n",
        "else:\n",
        "  aumento = salario_atual*(reajuste_faixa4/100)\n",
        "  percentual = reajuste_faixa4\n",
        "\n",
        "salario_reajustado = salario_atual + aumento\n",
        "\n",
        "print(f\"Salário antes do reajuste: R$ {salario_atual:.2f}\")\n",
        "print(f\"Percentual de aumento aplicado: {percentual:.2f} %\")\n",
        "print(f\"Aumento: R$ {aumento:.2f}\")\n",
        "print(f\"Novo salário: R$ {salario_reajustado:.2f}\")"
      ],
      "execution_count": null,
      "outputs": [
        {
          "output_type": "stream",
          "text": [
            "Qual o seu salário? 100\n",
            "Salário antes do reajuste: R$ 100.00\n",
            "Percentual de aumento aplicado: 20.00 %\n",
            "Aumento: R$ 20.00\n",
            "Novo salário: R$ 120.00\n"
          ],
          "name": "stdout"
        }
      ]
    },
    {
      "cell_type": "markdown",
      "metadata": {
        "id": "ojXu0pEFujRE"
      },
      "source": [
        "#DESAFIO 02\n",
        "\n",
        "#Jogo da adivinhação\n",
        "\n",
        "Escreva um programa que faça o computador “pensar” em um número inteiro entre 0 e 10 e peça para o usuário tentar descobrir qual foi o número escolhido pelo computador. O programa deverá escrever na tela se o usuário venceu ou perdeu."
      ]
    },
    {
      "cell_type": "code",
      "metadata": {
        "id": "b2hP2n9NuoNZ",
        "colab": {
          "base_uri": "https://localhost:8080/"
        },
        "outputId": "0694ca2f-8b61-4241-a0aa-58e4a43653de"
      },
      "source": [
        "import random\n",
        "\n",
        "print(\"Olá, tente adivinhar o número (de 0 a 10)\")\n",
        "num = random.randint(0, 10)\n",
        "\n",
        "num_user = int(input(\"Qual número eu pensei? \"))\n",
        "if num == num_user:\n",
        "  print(\"Você acertou!\")\n",
        "else:\n",
        "  print(\"Você errou! Eu pensei no número\", num)"
      ],
      "execution_count": 23,
      "outputs": [
        {
          "output_type": "stream",
          "text": [
            "Olá, tente adivinhar o número (de 0 a 10)\n",
            "Qual número eu pensei? 5\n",
            "Você errou! Eu pensei no número 10\n"
          ],
          "name": "stdout"
        }
      ]
    },
    {
      "cell_type": "markdown",
      "metadata": {
        "id": "FWg_c-N92Mdr"
      },
      "source": [
        "#DESAFIO 03\n",
        "\n",
        "#Caixa eletrônico\n",
        "\n",
        "Faça um Programa para um caixa eletrônico. O programa deverá perguntar ao usuário a valor do saque e depois informar quantas notas de cada valor serão fornecidas. As notas disponíveis serão as de 1, 5, 10, 50 e 100 reais. O valor mínimo é de 10 reais e o máximo de 600 reais. O programa não deve se preocupar com a quantidade de notas existentes na máquina.\n",
        "\n",
        "* Exemplo 1: Para sacar a quantia de 256 reais, o programa fornece duas notas de 100, uma nota de 50, uma nota de 5 e uma nota de 1;\n",
        "\n",
        "* Exemplo 2: Para sacar a quantia de 399 reais, o programa fornece três notas de 100, uma nota de 50, quatro notas de 10, uma nota de 5 e quatro notas de 1.\n"
      ]
    },
    {
      "cell_type": "code",
      "metadata": {
        "id": "gAB6OX8t2Wbj",
        "colab": {
          "base_uri": "https://localhost:8080/"
        },
        "outputId": "1c48d366-83e4-40d0-ebd0-46ce743a4cc6"
      },
      "source": [
        "saque = float(input(\"Digite o valor que deseja sacar (entre R$10 e R$600): \").replace(\",\",\".\"))\n",
        "\n",
        "while saque < 10 or saque > 600:\n",
        "    saque = float(input(\"Digite o valor que deseja sacar (entre R$10 e R$600): \").replace(\",\",\".\"))\n",
        "else:\n",
        "    print(f\"Você vai sacar R$ {saque:.2f}\")\n",
        "    cem = int(saque/100)\n",
        "    saque = saque % 100\n",
        "\n",
        "    cinquenta = int(saque/50)\n",
        "    saque = saque % 50\n",
        "\n",
        "    dez = int(saque/10)\n",
        "    saque = saque % 10\n",
        "\n",
        "    cinco = int(saque/5)\n",
        "    saque = saque % 5\n",
        "\n",
        "    um = int(saque/1)\n",
        "    saque = saque % 1\n",
        "\n",
        "print(\"Serão fornecidas:\")\n",
        "\n",
        "print(f\"{um} notas de R$ 1,00\")\n",
        "print(f\"{cinco} notas de R$ 5,00\")\n",
        "print(f\"{dez} notas de R$ 10,00\")\n",
        "print(f\"{cinquenta} notas de R$ 50,00\")\n",
        "print(f\"{cem} notas de R$ 100,00\")"
      ],
      "execution_count": 48,
      "outputs": [
        {
          "output_type": "stream",
          "text": [
            "Digite o valor que deseja sacar (entre R$10 e R$600): 5422\n",
            "Digite o valor que deseja sacar (entre R$10 e R$600): 542\n",
            "Você vai sacar R$ 542.00\n",
            "Serão fornecidas:\n",
            "2 notas de R$ 1,00\n",
            "0 notas de R$ 5,00\n",
            "4 notas de R$ 10,00\n",
            "0 notas de R$ 50,00\n",
            "5 notas de R$ 100,00\n"
          ],
          "name": "stdout"
        }
      ]
    }
  ]
}